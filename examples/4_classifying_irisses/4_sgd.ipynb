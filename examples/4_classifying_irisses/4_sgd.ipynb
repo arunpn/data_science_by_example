{
 "cells": [
  {
   "cell_type": "code",
   "execution_count": 1,
   "metadata": {
    "collapsed": false
   },
   "outputs": [],
   "source": [
    "\"\"\" First, let's import the data.\n",
    "    It comes stock with scikit-learn.\n",
    "\"\"\"\n",
    "# load test data set\n",
    "from sklearn.datasets import load_iris\n",
    "iris = load_iris()\n",
    "\n",
    "x_iris = iris.data\n",
    "y_iris = iris.target\n",
    "\n",
    "x = x_iris[:, :2]\n",
    "y = y_iris\n",
    "\n",
    "# split data set into test and real sets\n",
    "from sklearn.cross_validation import train_test_split\n",
    "from sklearn import preprocessing\n",
    "\n",
    "x_train, x_test = train_test_split(x, test_size=0.25, random_state=33)\n",
    "y_train, y_test = train_test_split(y, test_size=0.25, random_state=33)\n",
    "\n",
    "# normalize test data so each feature has a mean of 0.0 and a std dev of 1.0\n",
    "scaler_x = preprocessing.StandardScaler().fit(x_train)\n",
    "x_train = scaler_x.transform(x_train)\n",
    "x_test = scaler_x.transform(x_test)\n"
   ]
  },
  {
   "cell_type": "code",
   "execution_count": 2,
   "metadata": {
    "collapsed": false
   },
   "outputs": [
    {
     "data": {
      "text/plain": [
       "<matplotlib.text.Text at 0x7fa51b6ef518>"
      ]
     },
     "execution_count": 2,
     "metadata": {},
     "output_type": "execute_result"
    },
    {
     "data": {
      "image/png": "[encoded data removed]",
      "text/plain": [
       "<matplotlib.figure.Figure at 0x7fa51d906f28>"
      ]
     },
     "metadata": {},
     "output_type": "display_data"
    }
   ],
   "source": [
    "\"\"\" Now let's just make a quick plot of the data\n",
    "    to take a look at it.\n",
    "\"\"\"\n",
    "%matplotlib inline\n",
    "import matplotlib.pyplot as plt\n",
    "colors = ['red', 'greenyellow', 'blue']\n",
    "\n",
    "for i in range(len(colors)):\n",
    "    xs = x_train[:, 0][y_train == i]\n",
    "    ys = x_train[:, 1][y_train == i]\n",
    "    plt.scatter(xs, ys, c=colors[i])\n",
    "\n",
    "plt.legend(iris.target_names)\n",
    "plt.xlabel('Sepal length')\n",
    "plt.ylabel('Sepal width')\n"
   ]
  },
  {
   "cell_type": "code",
   "execution_count": 3,
   "metadata": {
    "collapsed": false
   },
   "outputs": [
    {
     "name": "stdout",
     "output_type": "stream",
     "text": [
      "[[-29.06809047   5.42667236]\n",
      " [  4.23244174  -1.21131079]\n",
      " [ 16.90314785   2.85869347]]\n",
      "[ -3.53271651 -15.27692161 -17.80244363]\n"
     ]
    }
   ],
   "source": [
    "\"\"\" Now let's use the Stochiast Gradient Descent linear\n",
    "    fit model to classify the data into groups.\n",
    "\"\"\"\n",
    "from sklearn.linear_model import SGDClassifier\n",
    "\n",
    "clf = SGDClassifier()\n",
    "clf.fit(x_train, y_train)\n",
    "\n",
    "print(clf.coef_)\n",
    "print(clf.intercept_)"
   ]
  },
  {
   "cell_type": "code",
   "execution_count": 4,
   "metadata": {
    "collapsed": false
   },
   "outputs": [
    {
     "data": {
      "text/plain": [
       "(-2, 2.5)"
      ]
     },
     "execution_count": 4,
     "metadata": {},
     "output_type": "execute_result"
    },
    {
     "data": {
      "image/png": "[encoded data removed]",
      "text/plain": [
       "<matplotlib.figure.Figure at 0x7fa5199316d8>"
      ]
     },
     "metadata": {},
     "output_type": "display_data"
    }
   ],
   "source": [
    "\"\"\" Okay, so what we have above are the parameters to fit three different lines.\n",
    "    These lines represent the split of the tree different types of irisses.\n",
    "    But to my eye, only the red is really well separated from the others,\n",
    "    so we'll just plot the one more interesting fit line.\n",
    "\"\"\"\n",
    "import numpy as np\n",
    "\n",
    "x_min = x_train[:, 0].min() - 0.5\n",
    "x_max = x_train[:, 0].max() + 0.5\n",
    "y_min = x_train[:, 1].min() - 0.5\n",
    "y_max = x_train[:, 1].max() + 0.5\n",
    "\n",
    "xs = np.arange(x_min, x_max, 0.5)\n",
    "\n",
    "colors = ['red', 'greenyellow', 'blue']\n",
    "\n",
    "for i in range(len(colors)):\n",
    "    xs = x_train[:, 0][y_train == i]\n",
    "    ys = x_train[:, 1][y_train == i]\n",
    "    plt.scatter(xs, ys, c=colors[i])\n",
    "\n",
    "ys = (-clf.intercept_[0] - xs * clf.coef_[0, 0]) / clf.coef_[0, 1]\n",
    "plt.plot(xs, ys, hold=True)\n",
    "    \n",
    "plt.legend(iris.target_names)\n",
    "plt.xlabel('Sepal length')\n",
    "plt.ylabel('Sepal width')\n",
    "plt.ylim(-2.75, 3)\n",
    "plt.xlim(-2, 2.5)"
   ]
  },
  {
   "cell_type": "code",
   "execution_count": null,
   "metadata": {
    "collapsed": true
   },
   "outputs": [],
   "source": []
  }
 ],
 "metadata": {
  "kernelspec": {
   "display_name": "Python 3",
   "language": "python",
   "name": "python3"
  },
  "language_info": {
   "codemirror_mode": {
    "name": "ipython",
    "version": 3
   },
   "file_extension": ".py",
   "mimetype": "text/x-python",
   "name": "python",
   "nbconvert_exporter": "python",
   "pygments_lexer": "ipython3",
   "version": "3.4.3"
  }
 },
 "nbformat": 4,
 "nbformat_minor": 0
}
