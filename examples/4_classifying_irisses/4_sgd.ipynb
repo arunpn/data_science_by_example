{
 "cells": [
  {
   "cell_type": "code",
   "execution_count": 1,
   "metadata": {
    "collapsed": false
   },
   "outputs": [],
   "source": [
    "\"\"\" First, let's import the data.\n",
    "    It comes stock with scikit-learn.\n",
    "\"\"\"\n",
    "# load test data set\n",
    "from sklearn.datasets import load_iris\n",
    "iris = load_iris()\n",
    "\n",
    "x_iris = iris.data\n",
    "y_iris = iris.target\n",
    "\n",
    "x = x_iris[:, :2]\n",
    "y = y_iris\n",
    "\n",
    "# split data set into test and real sets\n",
    "from sklearn.cross_validation import train_test_split\n",
    "from sklearn.preprocessing import StandardScaler\n",
    "\n",
    "x_train, x_test = train_test_split(x, test_size=0.25, random_state=33)\n",
    "y_train, y_test = train_test_split(y, test_size=0.25, random_state=33)\n",
    "\n",
    "# normalize test data so each feature has a mean of 0.0 and a std dev of 1.0\n",
    "scaler_x = StandardScaler().fit(x_train)\n",
    "x_train = scaler_x.transform(x_train)\n",
    "x_test = scaler_x.transform(x_test)\n"
   ]
  },
  {
   "cell_type": "code",
   "execution_count": 2,
   "metadata": {
    "collapsed": false
   },
   "outputs": [
    {
     "data": {
      "text/plain": [
       "<matplotlib.text.Text at 0x7f53cc6dd710>"
      ]
     },
     "execution_count": 2,
     "metadata": {},
     "output_type": "execute_result"
    },
    {
     "data": {
      "image/png": "[encoded data removed]",
      "text/plain": [
       "<matplotlib.figure.Figure at 0x7f53cef13fd0>"
      ]
     },
     "metadata": {},
     "output_type": "display_data"
    }
   ],
   "source": [
    "\"\"\" Now let's just make a quick plot of the data\n",
    "    to take a look at it.\n",
    "\"\"\"\n",
    "%matplotlib inline\n",
    "import matplotlib.pyplot as plt\n",
    "colors = ['red', 'greenyellow', 'blue']\n",
    "\n",
    "for i in range(len(colors)):\n",
    "    xs = x_train[:, 0][y_train == i]\n",
    "    ys = x_train[:, 1][y_train == i]\n",
    "    plt.scatter(xs, ys, c=colors[i])\n",
    "\n",
    "plt.legend(iris.target_names)\n",
    "plt.xlabel('Sepal length')\n",
    "plt.ylabel('Sepal width')\n"
   ]
  },
  {
   "cell_type": "code",
   "execution_count": 3,
   "metadata": {
    "collapsed": false
   },
   "outputs": [
    {
     "name": "stdout",
     "output_type": "stream",
     "text": [
      "[[-31.5436696   17.78204246]\n",
      " [ -3.22091479 -12.06465551]\n",
      " [ 14.90671306 -14.92334899]]\n",
      "[-17.76731956 -15.02248222  -4.22256051]\n"
     ]
    }
   ],
   "source": [
    "\"\"\" Now let's use the Stochiast Gradient Descent linear\n",
    "    fit model to classify the iris data into two groups.\n",
    "\"\"\"\n",
    "from sklearn.linear_model import SGDClassifier\n",
    "\n",
    "clf = SGDClassifier()\n",
    "clf.fit(x_train, y_train)\n",
    "\n",
    "print(clf.coef_)\n",
    "print(clf.intercept_)"
   ]
  },
  {
   "cell_type": "code",
   "execution_count": 4,
   "metadata": {
    "collapsed": false
   },
   "outputs": [
    {
     "data": {
      "text/plain": [
       "(-2, 2.5)"
      ]
     },
     "execution_count": 4,
     "metadata": {},
     "output_type": "execute_result"
    },
    {
     "data": {
      "image/png": "[encoded data removed]",
      "text/plain": [
       "<matplotlib.figure.Figure at 0x7f53fd43b8d0>"
      ]
     },
     "metadata": {},
     "output_type": "display_data"
    }
   ],
   "source": [
    "\"\"\" Okay, so what we have above are the parameters to fit three different lines.\n",
    "    These lines represent the split of the tree different types of irisses.\n",
    "    But to my eye, only the red is really well separated from the others,\n",
    "    so we'll just plot the one more interesting fit line.\n",
    "\"\"\"\n",
    "import numpy as np\n",
    "\n",
    "x_min = x_train[:, 0].min() - 0.5\n",
    "x_max = x_train[:, 0].max() + 0.5\n",
    "y_min = x_train[:, 1].min() - 0.5\n",
    "y_max = x_train[:, 1].max() + 0.5\n",
    "\n",
    "xs = np.arange(x_min, x_max, 0.5)\n",
    "\n",
    "colors = ['red', 'greenyellow', 'blue']\n",
    "\n",
    "for i in range(len(colors)):\n",
    "    xs = x_train[:, 0][y_train == i]\n",
    "    ys = x_train[:, 1][y_train == i]\n",
    "    plt.scatter(xs, ys, c=colors[i])\n",
    "\n",
    "ys = (-clf.intercept_[0] - xs * clf.coef_[0, 0]) / clf.coef_[0, 1]\n",
    "plt.plot(xs, ys, hold=True)\n",
    "\n",
    "plt.title('Setosa vs others')\n",
    "plt.xlabel('Sepal length')\n",
    "plt.ylabel('Sepal width')\n",
    "plt.ylim(-2.75, 3)\n",
    "plt.xlim(-2, 2.5)"
   ]
  },
  {
   "cell_type": "code",
   "execution_count": 5,
   "metadata": {
    "collapsed": false
   },
   "outputs": [
    {
     "name": "stdout",
     "output_type": "stream",
     "text": [
      "[1]\n",
      "[1]\n",
      "[0]\n"
     ]
    }
   ],
   "source": [
    "\"\"\" Let's use our new classifier to predict a few new instances \"\"\"\n",
    "print(clf.predict(scaler_x.transform([[2.0, 0.1]])))\n",
    "print(clf.predict(scaler_x.transform([[0.0, -3.1]])))\n",
    "print(clf.predict(scaler_x.transform([[-1.3, 2.1]])))"
   ]
  },
  {
   "cell_type": "code",
   "execution_count": 6,
   "metadata": {
    "collapsed": false
   },
   "outputs": [
    {
     "name": "stdout",
     "output_type": "stream",
     "text": [
      "0.660714285714\n"
     ]
    }
   ],
   "source": [
    "\"\"\" Let's see how accurately it predicts the training data. \"\"\"\n",
    "from sklearn import metrics\n",
    "y_train_pred = clf.predict(x_train)\n",
    "print(metrics.accuracy_score(y_train, y_train_pred))"
   ]
  },
  {
   "cell_type": "code",
   "execution_count": 7,
   "metadata": {
    "collapsed": false
   },
   "outputs": [
    {
     "name": "stdout",
     "output_type": "stream",
     "text": [
      "0.710526315789\n"
     ]
    }
   ],
   "source": [
    "\"\"\" Let's see how the classifier does on the testing data. \"\"\"\n",
    "y_pred = clf.predict(x_test)\n",
    "print(metrics.accuracy_score(y_test, y_pred))"
   ]
  },
  {
   "cell_type": "code",
   "execution_count": 8,
   "metadata": {
    "collapsed": false
   },
   "outputs": [
    {
     "name": "stdout",
     "output_type": "stream",
     "text": [
      "             precision    recall  f1-score   support\n",
      "\n",
      "     setosa       1.00      1.00      1.00         8\n",
      " versicolor       0.00      0.00      0.00        11\n",
      "  virginica       0.63      1.00      0.78        19\n",
      "\n",
      "avg / total       0.53      0.71      0.60        38\n",
      "\n",
      "[[ 8  0  0]\n",
      " [ 0  0 11]\n",
      " [ 0  0 19]]\n"
     ]
    },
    {
     "name": "stderr",
     "output_type": "stream",
     "text": [
      "/home/jstilley/anaconda3/lib/python3.4/site-packages/sklearn/metrics/classification.py:958: UndefinedMetricWarning: Precision and F-score are ill-defined and being set to 0.0 in labels with no predicted samples.\n",
      "  'precision', 'predicted', average, warn_for)\n"
     ]
    }
   ],
   "source": [
    "\"\"\" Let's try some additinoal measures: Precision, Recall and F-score, and show the confusion matrix \"\"\"\n",
    "\n",
    "print(metrics.classification_report(y_test, y_pred, target_names=iris.target_names))\n",
    "print(metrics.confusion_matrix(y_test, y_pred))\n"
   ]
  },
  {
   "cell_type": "code",
   "execution_count": 11,
   "metadata": {
    "collapsed": false
   },
   "outputs": [
    {
     "name": "stdout",
     "output_type": "stream",
     "text": [
      "[ 0.66666667  0.56666667  0.76666667  0.66666667  0.83333333]\n"
     ]
    }
   ],
   "source": [
    "from sklearn.cross_validation import cross_val_score, KFold\n",
    "from sklearn.pipeline import Pipeline\n",
    "\n",
    "# create a composite estimator made by a pipeline of the standarization and the linear model\n",
    "clf = Pipeline([\n",
    "        ('scaler', StandardScaler()),\n",
    "        ('linear_model', SGDClassifier())\n",
    "])\n",
    "# create a k-fold cross validation iterator of k=5 folds\n",
    "cv = KFold(x.shape[0], 5, shuffle=True, random_state=33)\n",
    "# by default the score used is the one returned by score method of the estimator (accuracy)\n",
    "scores = cross_val_score(clf, x, y, cv=cv)\n",
    "print(scores)"
   ]
  },
  {
   "cell_type": "code",
   "execution_count": 12,
   "metadata": {
    "collapsed": false
   },
   "outputs": [
    {
     "name": "stdout",
     "output_type": "stream",
     "text": [
      "Mean score: 0.700 (+/-0.046)\n"
     ]
    }
   ],
   "source": [
    "from scipy.stats import sem\n",
    "\n",
    "def mean_score(scores):\n",
    "    \"\"\"Print the empirical mean score and standard error of the mean.\"\"\"\n",
    "    return (\"Mean score: {0:.3f} (+/-{1:.3f})\").format(\n",
    "            np.mean(scores), sem(scores))\n",
    "\n",
    "print(mean_score(scores))"
   ]
  },
  {
   "cell_type": "code",
   "execution_count": null,
   "metadata": {
    "collapsed": true
   },
   "outputs": [],
   "source": []
  }
 ],
 "metadata": {
  "kernelspec": {
   "display_name": "Python 3",
   "language": "python",
   "name": "python3"
  },
  "language_info": {
   "codemirror_mode": {
    "name": "ipython",
    "version": 3
   },
   "file_extension": ".py",
   "mimetype": "text/x-python",
   "name": "python",
   "nbconvert_exporter": "python",
   "pygments_lexer": "ipython3",
   "version": "3.4.3"
  }
 },
 "nbformat": 4,
 "nbformat_minor": 0
}
