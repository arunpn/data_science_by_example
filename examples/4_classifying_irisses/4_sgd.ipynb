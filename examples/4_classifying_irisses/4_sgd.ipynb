{
 "cells": [
  {
   "cell_type": "code",
   "execution_count": 22,
   "metadata": {
    "collapsed": false
   },
   "outputs": [],
   "source": [
    "\"\"\" First, let's import the data.\n",
    "    It comes stock with scikit-learn.\n",
    "\"\"\"\n",
    "# load test data set\n",
    "from sklearn.datasets import load_iris\n",
    "iris = load_iris()\n",
    "\n",
    "x_iris = iris.data\n",
    "y_iris = iris.target\n",
    "\n",
    "#x = x_iris[:, :2]\n",
    "x = x_iris\n",
    "y = y_iris\n",
    "\n",
    "# split data set into test and real sets\n",
    "from sklearn.cross_validation import train_test_split\n",
    "from sklearn.preprocessing import StandardScaler\n",
    "\n",
    "x_train, x_test = train_test_split(x, test_size=0.25, random_state=33)\n",
    "y_train, y_test = train_test_split(y, test_size=0.25, random_state=33)\n",
    "\n",
    "# normalize test data so each feature has a mean of 0.0 and a std dev of 1.0\n",
    "scaler_x = StandardScaler().fit(x_train)\n",
    "x_train = scaler_x.transform(x_train)\n",
    "x_test = scaler_x.transform(x_test)\n"
   ]
  },
  {
   "cell_type": "code",
   "execution_count": 2,
   "metadata": {
    "collapsed": false
   },
   "outputs": [
    {
     "data": {
      "text/plain": [
       "<matplotlib.text.Text at 0x7f88d78c36d8>"
      ]
     },
     "execution_count": 2,
     "metadata": {},
     "output_type": "execute_result"
    },
    {
     "data": {
      "image/png": "[encoded data removed]",
      "text/plain": [
       "<matplotlib.figure.Figure at 0x7f88da0f9f98>"
      ]
     },
     "metadata": {},
     "output_type": "display_data"
    }
   ],
   "source": [
    "\"\"\" Now let's just make a quick plot of the data\n",
    "    to take a look at it.\n",
    "\"\"\"\n",
    "%matplotlib inline\n",
    "import matplotlib.pyplot as plt\n",
    "colors = ['red', 'greenyellow', 'blue']\n",
    "\n",
    "for i in range(len(colors)):\n",
    "    xs = x_train[:, 0][y_train == i]\n",
    "    ys = x_train[:, 1][y_train == i]\n",
    "    plt.scatter(xs, ys, c=colors[i])\n",
    "\n",
    "plt.legend(iris.target_names)\n",
    "plt.xlabel('Sepal length')\n",
    "plt.ylabel('Sepal width')\n"
   ]
  },
  {
   "cell_type": "code",
   "execution_count": 3,
   "metadata": {
    "collapsed": false
   },
   "outputs": [
    {
     "name": "stdout",
     "output_type": "stream",
     "text": [
      "[[-30.0529983   20.49537864]\n",
      " [  3.1011287  -11.60435741]\n",
      " [ 15.65204872   2.71333618]]\n",
      "[-18.71823219   4.08177034  -4.21087009]\n"
     ]
    }
   ],
   "source": [
    "\"\"\" Supervised Learning: Stochiast Gradient Descent linear\n",
    "    fit model to classify the iris data into two groups.\n",
    "\"\"\"\n",
    "from sklearn.linear_model import SGDClassifier\n",
    "\n",
    "clf = SGDClassifier()\n",
    "clf.fit(x_train, y_train)\n",
    "\n",
    "print(clf.coef_)\n",
    "print(clf.intercept_)"
   ]
  },
  {
   "cell_type": "code",
   "execution_count": 4,
   "metadata": {
    "collapsed": false
   },
   "outputs": [
    {
     "data": {
      "text/plain": [
       "(-2, 2.5)"
      ]
     },
     "execution_count": 4,
     "metadata": {},
     "output_type": "execute_result"
    },
    {
     "data": {
      "image/png": "[encoded data removed]",
      "text/plain": [
       "<matplotlib.figure.Figure at 0x7f88d61a06a0>"
      ]
     },
     "metadata": {},
     "output_type": "display_data"
    }
   ],
   "source": [
    "\"\"\" Okay, so what we have above are the parameters to fit three different lines.\n",
    "    These lines represent the split of the tree different types of irisses.\n",
    "    But to my eye, only the red is really well separated from the others,\n",
    "    so we'll just plot the one more interesting fit line.\n",
    "\"\"\"\n",
    "import numpy as np\n",
    "\n",
    "x_min = x_train[:, 0].min() - 0.5\n",
    "x_max = x_train[:, 0].max() + 0.5\n",
    "y_min = x_train[:, 1].min() - 0.5\n",
    "y_max = x_train[:, 1].max() + 0.5\n",
    "\n",
    "xs = np.arange(x_min, x_max, 0.5)\n",
    "\n",
    "colors = ['red', 'greenyellow', 'blue']\n",
    "\n",
    "for i in range(len(colors)):\n",
    "    xs = x_train[:, 0][y_train == i]\n",
    "    ys = x_train[:, 1][y_train == i]\n",
    "    plt.scatter(xs, ys, c=colors[i])\n",
    "\n",
    "ys = (-clf.intercept_[0] - xs * clf.coef_[0, 0]) / clf.coef_[0, 1]\n",
    "plt.plot(xs, ys, hold=True)\n",
    "\n",
    "plt.title('Setosa vs others')\n",
    "plt.xlabel('Sepal length')\n",
    "plt.ylabel('Sepal width')\n",
    "plt.ylim(-2.75, 3)\n",
    "plt.xlim(-2, 2.5)"
   ]
  },
  {
   "cell_type": "code",
   "execution_count": 5,
   "metadata": {
    "collapsed": false
   },
   "outputs": [
    {
     "name": "stdout",
     "output_type": "stream",
     "text": [
      "[1]\n",
      "[1]\n",
      "[0]\n"
     ]
    }
   ],
   "source": [
    "\"\"\" Let's use our new classifier to predict a few new instances \"\"\"\n",
    "print(clf.predict(scaler_x.transform([[2.0, 0.1]])))\n",
    "print(clf.predict(scaler_x.transform([[0.0, -3.1]])))\n",
    "print(clf.predict(scaler_x.transform([[-1.3, 2.1]])))"
   ]
  },
  {
   "cell_type": "code",
   "execution_count": 6,
   "metadata": {
    "collapsed": false
   },
   "outputs": [
    {
     "name": "stdout",
     "output_type": "stream",
     "text": [
      "0.821428571429\n"
     ]
    }
   ],
   "source": [
    "\"\"\" Let's see how accurately it predicts the training data. \"\"\"\n",
    "from sklearn import metrics\n",
    "y_train_pred = clf.predict(x_train)\n",
    "print(metrics.accuracy_score(y_train, y_train_pred))"
   ]
  },
  {
   "cell_type": "code",
   "execution_count": 7,
   "metadata": {
    "collapsed": false
   },
   "outputs": [
    {
     "name": "stdout",
     "output_type": "stream",
     "text": [
      "0.736842105263\n"
     ]
    }
   ],
   "source": [
    "\"\"\" Let's see how the classifier does on the testing data. \"\"\"\n",
    "y_pred = clf.predict(x_test)\n",
    "print(metrics.accuracy_score(y_test, y_pred))"
   ]
  },
  {
   "cell_type": "code",
   "execution_count": 8,
   "metadata": {
    "collapsed": false
   },
   "outputs": [
    {
     "name": "stdout",
     "output_type": "stream",
     "text": [
      "             precision    recall  f1-score   support\n",
      "\n",
      "     setosa       1.00      1.00      1.00         8\n",
      " versicolor       0.53      0.73      0.62        11\n",
      "  virginica       0.80      0.63      0.71        19\n",
      "\n",
      "avg / total       0.76      0.74      0.74        38\n",
      "\n",
      "[[ 8  0  0]\n",
      " [ 0  8  3]\n",
      " [ 0  7 12]]\n"
     ]
    }
   ],
   "source": [
    "\"\"\" Let's try some additinoal measures: Precision, Recall and F-score, and show the confusion matrix \"\"\"\n",
    "\n",
    "print(metrics.classification_report(y_test, y_pred, target_names=iris.target_names))\n",
    "print(metrics.confusion_matrix(y_test, y_pred))\n"
   ]
  },
  {
   "cell_type": "code",
   "execution_count": 9,
   "metadata": {
    "collapsed": false
   },
   "outputs": [
    {
     "name": "stdout",
     "output_type": "stream",
     "text": [
      "[ 0.7         0.76666667  0.73333333  0.76666667  0.86666667]\n"
     ]
    }
   ],
   "source": [
    "from sklearn.cross_validation import cross_val_score, KFold\n",
    "from sklearn.pipeline import Pipeline\n",
    "\n",
    "# create a composite estimator made by a pipeline of the standarization and the linear model\n",
    "clf = Pipeline([\n",
    "        ('scaler', StandardScaler()),\n",
    "        ('linear_model', SGDClassifier())\n",
    "])\n",
    "# create a k-fold cross validation iterator of k=5 folds\n",
    "cv = KFold(x.shape[0], 5, shuffle=True, random_state=33)\n",
    "# by default the score used is the one returned by score method of the estimator (accuracy)\n",
    "scores = cross_val_score(clf, x, y, cv=cv)\n",
    "print(scores)"
   ]
  },
  {
   "cell_type": "code",
   "execution_count": 10,
   "metadata": {
    "collapsed": false
   },
   "outputs": [
    {
     "name": "stdout",
     "output_type": "stream",
     "text": [
      "Mean score: 0.767 (+/-0.028)\n"
     ]
    }
   ],
   "source": [
    "from scipy.stats import sem\n",
    "\n",
    "def mean_score(scores):\n",
    "    \"\"\"Print the empirical mean score and standard error of the mean.\"\"\"\n",
    "    return (\"Mean score: {0:.3f} (+/-{1:.3f})\").format(\n",
    "            np.mean(scores), sem(scores))\n",
    "\n",
    "print(mean_score(scores))"
   ]
  },
  {
   "cell_type": "code",
   "execution_count": 11,
   "metadata": {
    "collapsed": false
   },
   "outputs": [
    {
     "data": {
      "text/plain": [
       "KMeans(copy_x=True, init='k-means++', max_iter=300, n_clusters=3, n_init=10,\n",
       "    n_jobs=1, precompute_distances='auto', random_state=33, tol=0.0001,\n",
       "    verbose=0)"
      ]
     },
     "execution_count": 11,
     "metadata": {},
     "output_type": "execute_result"
    }
   ],
   "source": [
    "\"\"\" Unsupervised Learning: K-Means Clustering of the iris data\n",
    "\"\"\"\n",
    "\n",
    "from sklearn import cluster\n",
    "clf_sepal = cluster.KMeans(init='k-means++', n_clusters=3, random_state=33)\n",
    "clf_sepal.fit(x_train[:,0:2])"
   ]
  },
  {
   "cell_type": "code",
   "execution_count": 13,
   "metadata": {
    "collapsed": false
   },
   "outputs": [
    {
     "name": "stdout",
     "output_type": "stream",
     "text": [
      "[1 0 1 1 1 0 0 1 0 2 0 0 1 2 0 2 1 2 1 0 0 1 1 0 0 2 0 1 2 2 1 1 0 0 2 1 0\n",
      " 1 1 2 1 0 2 0 1 0 2 2 0 2 1 0 0 1 0 0 0 2 1 0 1 0 1 0 1 2 1 1 1 0 1 0 2 1\n",
      " 0 0 0 0 2 2 0 1 1 2 1 0 0 1 1 1 0 1 1 0 2 1 2 1 2 0 2 0 0 0 1 1 2 1 1 1 2\n",
      " 0]\n"
     ]
    }
   ],
   "source": [
    "\"\"\" First, let's print the labels predicted for each data point by our K-means classifier.\n",
    "\"\"\"\n",
    "print(clf_sepal.labels_)"
   ]
  },
  {
   "cell_type": "code",
   "execution_count": 15,
   "metadata": {
    "collapsed": false
   },
   "outputs": [
    {
     "name": "stdout",
     "output_type": "stream",
     "text": [
      "[0 0 0 0 0 0 0 1 0 0 0 1 0 0 0 0 0 0 0 0 0 0 0 0 0 0 0 0 0 0 0 0 0 0 0 0 0\n",
      " 0 0 0 0 0 0]\n",
      "[1 1 1 1 1 1 2 1 0 2 1 2 2 1 1 2 2 1 2 2 2 1 1 1 1 1 1 1 2 1 1 1 1 1 1 1 1\n",
      " 2 1 2 1 1 2 1]\n",
      "[2 2 1 2 2 2 2 1 1 2 2 1 2 2 1 1 2 2 2 2 2 2 1 2 2]\n"
     ]
    }
   ],
   "source": [
    "\"\"\" Now let's look at the real values for each of these data points.\n",
    "\"\"\"\n",
    "\n",
    "print (y_train[clf_sepal.labels_ == 0])\n",
    "print (y_train[clf_sepal.labels_ == 1])\n",
    "print (y_train[clf_sepal.labels_ == 2])"
   ]
  },
  {
   "cell_type": "code",
   "execution_count": 16,
   "metadata": {
    "collapsed": false
   },
   "outputs": [
    {
     "data": {
      "image/png": "[encoded data removed]",
      "text/plain": [
       "<matplotlib.figure.Figure at 0x7f88d3d0ff98>"
      ]
     },
     "metadata": {},
     "output_type": "display_data"
    }
   ],
   "source": [
    "\"\"\" Okay, now let's make a plot of our new classifications \"\"\"\n",
    "colormarkers = [['red', 's'], ['greenyellow', 'o'], ['blue', 'x']]\n",
    "step = 0.01 \n",
    "margin = 0.1   \n",
    "sl_min, sl_max = x_train[:, 0].min() - margin, x_train[:, 0].max() + margin\n",
    "sw_min, sw_max = x_train[:, 1].min() - margin, x_train[:, 1].max() + margin\n",
    "sl, sw  = np.meshgrid(np.arange(sl_min, sl_max, step),\n",
    "                      np.arange(sw_min, sw_max, step))\n",
    "zs = clf_sepal.predict(np.c_[sl.ravel(), sw.ravel()]).reshape(sl.shape)\n",
    "centroids_s = clf_sepal.cluster_centers_\n",
    "\n",
    "plt.figure(1)\n",
    "plt.clf()\n",
    "plt.imshow(zs, interpolation='nearest', extent=(sl.min(), sl.max(), sw.min(), sw.max()), cmap= plt.cm.Pastel1, aspect='auto', origin='lower')\n",
    "for j in [0, 1, 2]:\n",
    "    px = x_train[:, 0][y_train == j]\n",
    "    py = x_train[:, 1][y_train == j]\n",
    "    plt.scatter(px, py, c=colormarkers[j][0], marker= colormarkers[j][1])\n",
    "plt.scatter(centroids_s[:, 0], centroids_s[:, 1], marker='*', linewidths=3, color='black', zorder=10)\n",
    "plt.title('K-means clustering on the Iris dataset using Sepal dimensions\\nCentroids are marked with stars')\n",
    "plt.xlim(sl_min, sl_max)\n",
    "plt.ylim(sw_min, sw_max)\n",
    "plt.xlabel(\"Sepal length\")\n",
    "plt.ylabel(\"Sepal width\")\n",
    "plt.show()\n"
   ]
  },
  {
   "cell_type": "code",
   "execution_count": 24,
   "metadata": {
    "collapsed": false
   },
   "outputs": [
    {
     "data": {
      "text/plain": [
       "KMeans(copy_x=True, init='k-means++', max_iter=300, n_clusters=3, n_init=10,\n",
       "    n_jobs=1, precompute_distances='auto', random_state=33, tol=0.0001,\n",
       "    verbose=0)"
      ]
     },
     "execution_count": 24,
     "metadata": {},
     "output_type": "execute_result"
    }
   ],
   "source": [
    "\"\"\" Okay, that's not bad. But two of the types of Irises are heavily mixed.\n",
    "    Let's try basing our analysis on petal dimensions.\n",
    "\"\"\"\n",
    "clf_petal = cluster.KMeans(init='k-means++', n_clusters=3, random_state=33)\n",
    "clf_petal.fit(x_train[:,2:4])\n"
   ]
  },
  {
   "cell_type": "code",
   "execution_count": 26,
   "metadata": {
    "collapsed": false
   },
   "outputs": [
    {
     "name": "stdout",
     "output_type": "stream",
     "text": [
      "[0 0 0 0 0 0 0 0 0 0 0 0 0 0 0 0 0 0 0 0 0 0 0 0 0 0 0 0 0 0 0 0 0 0 0 0 0\n",
      " 0 0 0 0 0]\n",
      "[1 1 1 1 1 1 1 1 2 1 1 1 1 1 1 1 1 1 1 1 1 1 1 1 1 1 1 1 1 1 1 1 1 2 1 1 1\n",
      " 1]\n",
      "[2 2 2 2 1 2 2 2 2 2 2 2 2 2 2 2 2 2 2 2 2 2 2 1 2 2 2 1 2 2 2 2]\n"
     ]
    }
   ],
   "source": [
    "\"\"\" And, again, let's check and see the real values of our predictions \"\"\"\n",
    "print(y_train[clf_petal.labels_ == 0])\n",
    "print(y_train[clf_petal.labels_ == 1])\n",
    "print(y_train[clf_petal.labels_ == 2])"
   ]
  },
  {
   "cell_type": "code",
   "execution_count": 29,
   "metadata": {
    "collapsed": false
   },
   "outputs": [
    {
     "data": {
      "image/png": "[encoded data removed]",
      "text/plain": [
       "<matplotlib.figure.Figure at 0x7f88d3c12908>"
      ]
     },
     "metadata": {},
     "output_type": "display_data"
    }
   ],
   "source": [
    "\"\"\" And again with the plotting... \"\"\"\n",
    "\n",
    "\n",
    "colormarkers = [['red', 's'], ['greenyellow', 'o'], ['blue', 'x']]\n",
    "step = 0.01\n",
    "margin = 0.1\n",
    "sl_min, sl_max = x_train[:, 2].min() - margin, x_train[:, 2].max() + margin\n",
    "sw_min, sw_max = x_train[:, 3].min() - margin, x_train[:, 3].max() + margin\n",
    "sl, sw  = np.meshgrid(np.arange(sl_min, sl_max, step),\n",
    "          np.arange(sw_min, sw_max, step),)\n",
    "zs = clf_petal.predict(np.c_[sl.ravel(), sw.ravel()]).reshape(sl.shape)\n",
    "centroids_s = clf_petal.cluster_centers_\n",
    "plt.figure(1)\n",
    "plt.clf()\n",
    "plt.imshow(zs, interpolation='nearest', extent=(sl.min(), sl.max(), sw.min(), sw.max()), cmap= plt.cm.Pastel1, aspect='auto', origin='lower')\n",
    "for j in [0,1,2]:\n",
    "    px = x_train[:, 2][y_train == j]\n",
    "    py = x_train[:, 3][y_train == j]\n",
    "    plt.scatter(px, py, c=colormarkers[j][0], marker= colormarkers[j][1])\n",
    "plt.scatter(centroids_s[:, 0], centroids_s[:, 1],marker='*',linewidths=3, color='black', zorder=10)\n",
    "plt.title('K-means clustering on the Iris dataset using Petal dimensions\\nCentroids are marked with stars')\n",
    "plt.xlim(sl_min, sl_max)\n",
    "plt.ylim(sw_min, sw_max)\n",
    "plt.xlabel(\"Petal length\")\n",
    "plt.ylabel(\"Petal width\")\n",
    "plt.show()\n"
   ]
  },
  {
   "cell_type": "code",
   "execution_count": null,
   "metadata": {
    "collapsed": true
   },
   "outputs": [],
   "source": []
  }
 ],
 "metadata": {
  "kernelspec": {
   "display_name": "Python 3",
   "language": "python",
   "name": "python3"
  },
  "language_info": {
   "codemirror_mode": {
    "name": "ipython",
    "version": 3
   },
   "file_extension": ".py",
   "mimetype": "text/x-python",
   "name": "python",
   "nbconvert_exporter": "python",
   "pygments_lexer": "ipython3",
   "version": "3.4.3"
  }
 },
 "nbformat": 4,
 "nbformat_minor": 0
}
