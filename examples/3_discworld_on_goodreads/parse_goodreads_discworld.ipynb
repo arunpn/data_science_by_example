{
 "cells": [
  {
   "cell_type": "code",
   "execution_count": 1,
   "metadata": {
    "collapsed": false
   },
   "outputs": [],
   "source": [
    "\"\"\" Web Parsing and Time-Series Plotting\n",
    "    This is basic example of scraping information off of a web page\n",
    "    (using Python, requests, and BeautifulSoup),\n",
    "    and basic plot-making\n",
    "    (using Python and matplotlib)\n",
    "    \n",
    "    The data we are going to use is taken from GoodReads\n",
    "    (*the* book review website) and we are going to be looking at\n",
    "    the Discworld series, by Terry Pratchett.\n",
    "    \n",
    "    People often ask me where they should start with the Discworld\n",
    "    series. There are 41 books in the series, and that can sound\n",
    "    intimidating. But, in reality, they aren't one continuous story\n",
    "    line. You can jump in anywhere. Still, perhaps we can do a little\n",
    "    digging and see where some optimal starting locations might be.\n",
    "    \n",
    "    The data in question came from this URL:\n",
    "    https://www.goodreads.com/series/40650-discworld\n",
    "\"\"\"\n",
    "from bs4 import BeautifulSoup\n",
    "import matplotlib.pyplot as plt\n",
    "import pandas as pd\n",
    "import requests\n",
    "%matplotlib inline\n"
   ]
  },
  {
   "cell_type": "code",
   "execution_count": 38,
   "metadata": {
    "collapsed": false
   },
   "outputs": [
    {
     "name": "stdout",
     "output_type": "stream",
     "text": [
      "592372\n"
     ]
    }
   ],
   "source": [
    "\"\"\" At this point, I grabbed the HTML from the link above.\n",
    "    Just in case the Goodreads website changes formats, I have preserved\n",
    "    a copy of the data I used in the attached HTML file.\n",
    "    \n",
    "    Below you will  find the `requests` command I originally\n",
    "    used to grab the web page.\n",
    "\"\"\"\n",
    "\"\"\"\n",
    "r = requests.get('https://www.goodreads.com/series/40650-discworld')\n",
    "fout = open('goodreads_discworld.html', 'w')\n",
    "fout.write(r.text)\n",
    "fout.close()\n",
    "\"\"\"\n",
    "fin = open('goodreads_discworld.html', 'r')\n",
    "html = fin.read()\n",
    "fin.close()\n",
    "\n",
    "print(len(html))  # number of characters on page (just FYI)"
   ]
  },
  {
   "cell_type": "code",
   "execution_count": 39,
   "metadata": {
    "collapsed": false
   },
   "outputs": [],
   "source": [
    "def parse_discworld():\n",
    "    \"\"\" Okay, time to start parsing this page and pulling\n",
    "        out the data we want about each book.\n",
    "        This is a big, ugly data-munging function.\n",
    "        You'll frequently get these then trying to parse HTML.\n",
    "        Very few websites are designed to make parsing\n",
    "        scripts beautiful.\n",
    "    \"\"\"\n",
    "    series_str = ' (Discworld, #'\n",
    "\n",
    "    soup = BeautifulSoup(html, 'html.parser')\n",
    "    books = []\n",
    "    # there is a big table of all the books in the series\n",
    "    book_table = soup.find('table')\n",
    "    # each table row is a single book\n",
    "    rows = book_table.find_all('tr')\n",
    "    for row in rows:\n",
    "        # only the second column has any info\n",
    "        col = row.find_all('td')[1]\n",
    "        # parse the book title\n",
    "        title_long = col.find('span', itemprop='name').text\n",
    "        if series_str not in title_long: continue\n",
    "        # there are some little \"#40.5\" intermediate books I want to ignore\n",
    "        if '.' in title_long: continue\n",
    "        title = title_long.split(series_str)[0]\n",
    "        # Which book in the series is this?\n",
    "        series_number = int(title_long.split(series_str)[1].replace(')', ';').split(';')[0])\n",
    "        # Is this book part of a sub-series of books?\n",
    "        if ';' in title_long:\n",
    "            subseries = title_long.split(series_str)[1].replace(')', ';').split(';')[1].strip().split(',')[0]  \n",
    "            if '#' in subseries:\n",
    "                subseries = subseries.split('#')[0].strip()\n",
    "        else:\n",
    "            subseries = ''\n",
    "        # parse GoodReads user rating info\n",
    "        rating_info = col.findAll(attrs={'class': \"minirating\"})[0].text.split('rating')\n",
    "        avg_rating = float(rating_info[0].split('stars ')[1].split(' avg')[0])\n",
    "        num_ratings = int(rating_info[1].replace('—', '').replace(',', '').strip())\n",
    "        # What year was the book published?\n",
    "        yr = int(col.findAll(attrs={'class': \"greyText smallText uitext\"})[0].text.split('\\n')[4].strip())\n",
    "        books.append({'number': series_number, 'title': title, 'yr': yr,\n",
    "                      'avg_rating': avg_rating, 'num_ratings': num_ratings,\n",
    "                      'subseries': subseries})\n",
    "\n",
    "    return books\n",
    "    \n",
    "books = parse_discworld()"
   ]
  },
  {
   "cell_type": "code",
   "execution_count": 40,
   "metadata": {
    "collapsed": false
   },
   "outputs": [
    {
     "name": "stdout",
     "output_type": "stream",
     "text": [
      "41\n",
      "{'num_ratings': 172994, 'title': 'The Color of Magic', 'subseries': 'Rincewind', 'avg_rating': 3.94, 'yr': 1983, 'number': 1}\n",
      "{'num_ratings': 4465, 'title': \"The Shepherd's Crown\", 'subseries': 'Tiffany Aching', 'avg_rating': 4.36, 'yr': 2015, 'number': 41}\n"
     ]
    }
   ],
   "source": [
    "\"\"\" Here I a just spot-checking the validity of my web-scraping.\n",
    "    I build my function piece-by-piece, using these spot checks\n",
    "    for validity.\n",
    "\"\"\"\n",
    "\n",
    "print(len(books))\n",
    "print(books[0])\n",
    "print(books[40])"
   ]
  },
  {
   "cell_type": "code",
   "execution_count": 44,
   "metadata": {
    "collapsed": false
   },
   "outputs": [
    {
     "data": {
      "text/html": [
       "<div>\n",
       "<table border=\"1\" class=\"dataframe\">\n",
       "  <thead>\n",
       "    <tr style=\"text-align: right;\">\n",
       "      <th></th>\n",
       "      <th>avg_rating</th>\n",
       "      <th>num_ratings</th>\n",
       "      <th>number</th>\n",
       "      <th>subseries</th>\n",
       "      <th>title</th>\n",
       "      <th>yr</th>\n",
       "    </tr>\n",
       "  </thead>\n",
       "  <tbody>\n",
       "    <tr>\n",
       "      <th>28</th>\n",
       "      <td>4.45</td>\n",
       "      <td>68053</td>\n",
       "      <td>29</td>\n",
       "      <td>City Watch</td>\n",
       "      <td>Night Watch</td>\n",
       "      <td>2002</td>\n",
       "    </tr>\n",
       "    <tr>\n",
       "      <th>40</th>\n",
       "      <td>4.36</td>\n",
       "      <td>4465</td>\n",
       "      <td>41</td>\n",
       "      <td>Tiffany Aching</td>\n",
       "      <td>The Shepherd's Crown</td>\n",
       "      <td>2015</td>\n",
       "    </tr>\n",
       "    <tr>\n",
       "      <th>32</th>\n",
       "      <td>4.34</td>\n",
       "      <td>68581</td>\n",
       "      <td>33</td>\n",
       "      <td>Moist von Lipwig</td>\n",
       "      <td>Going Postal</td>\n",
       "      <td>2004</td>\n",
       "    </tr>\n",
       "    <tr>\n",
       "      <th>37</th>\n",
       "      <td>4.33</td>\n",
       "      <td>28420</td>\n",
       "      <td>38</td>\n",
       "      <td>Tiffany Aching</td>\n",
       "      <td>I Shall Wear Midnight</td>\n",
       "      <td>2010</td>\n",
       "    </tr>\n",
       "    <tr>\n",
       "      <th>14</th>\n",
       "      <td>4.32</td>\n",
       "      <td>48366</td>\n",
       "      <td>15</td>\n",
       "      <td>City Watch</td>\n",
       "      <td>Men at Arms</td>\n",
       "      <td>1993</td>\n",
       "    </tr>\n",
       "    <tr>\n",
       "      <th>7</th>\n",
       "      <td>4.29</td>\n",
       "      <td>92697</td>\n",
       "      <td>8</td>\n",
       "      <td>City Watch</td>\n",
       "      <td>Guards! Guards!</td>\n",
       "      <td>1989</td>\n",
       "    </tr>\n",
       "    <tr>\n",
       "      <th>31</th>\n",
       "      <td>4.27</td>\n",
       "      <td>40620</td>\n",
       "      <td>32</td>\n",
       "      <td>Tiffany Aching</td>\n",
       "      <td>A Hat Full of Sky</td>\n",
       "      <td>2004</td>\n",
       "    </tr>\n",
       "    <tr>\n",
       "      <th>33</th>\n",
       "      <td>4.26</td>\n",
       "      <td>41000</td>\n",
       "      <td>34</td>\n",
       "      <td>City Watch</td>\n",
       "      <td>Thud!</td>\n",
       "      <td>2005</td>\n",
       "    </tr>\n",
       "    <tr>\n",
       "      <th>10</th>\n",
       "      <td>4.26</td>\n",
       "      <td>50977</td>\n",
       "      <td>11</td>\n",
       "      <td>Death</td>\n",
       "      <td>Reaper Man</td>\n",
       "      <td>1991</td>\n",
       "    </tr>\n",
       "    <tr>\n",
       "      <th>12</th>\n",
       "      <td>4.25</td>\n",
       "      <td>67956</td>\n",
       "      <td>13</td>\n",
       "      <td></td>\n",
       "      <td>Small Gods</td>\n",
       "      <td>1992</td>\n",
       "    </tr>\n",
       "  </tbody>\n",
       "</table>\n",
       "</div>"
      ],
      "text/plain": [
       "    avg_rating  num_ratings  number         subseries                  title  \\\n",
       "28        4.45        68053      29        City Watch            Night Watch   \n",
       "40        4.36         4465      41    Tiffany Aching   The Shepherd's Crown   \n",
       "32        4.34        68581      33  Moist von Lipwig           Going Postal   \n",
       "37        4.33        28420      38    Tiffany Aching  I Shall Wear Midnight   \n",
       "14        4.32        48366      15        City Watch            Men at Arms   \n",
       "7         4.29        92697       8        City Watch        Guards! Guards!   \n",
       "31        4.27        40620      32    Tiffany Aching      A Hat Full of Sky   \n",
       "33        4.26        41000      34        City Watch                  Thud!   \n",
       "10        4.26        50977      11             Death             Reaper Man   \n",
       "12        4.25        67956      13                               Small Gods   \n",
       "\n",
       "      yr  \n",
       "28  2002  \n",
       "40  2015  \n",
       "32  2004  \n",
       "37  2010  \n",
       "14  1993  \n",
       "7   1989  \n",
       "31  2004  \n",
       "33  2005  \n",
       "10  1991  \n",
       "12  1992  "
      ]
     },
     "execution_count": 44,
     "metadata": {},
     "output_type": "execute_result"
    }
   ],
   "source": [
    "# Which books got the highest goodreads user ratings?\n",
    "books = pd.DataFrame(books)\n",
    "books.sort(['avg_rating'], ascending=0)[:10]"
   ]
  },
  {
   "cell_type": "code",
   "execution_count": 45,
   "metadata": {
    "collapsed": false
   },
   "outputs": [
    {
     "data": {
      "text/html": [
       "<div>\n",
       "<table border=\"1\" class=\"dataframe\">\n",
       "  <thead>\n",
       "    <tr style=\"text-align: right;\">\n",
       "      <th></th>\n",
       "      <th>avg_rating</th>\n",
       "      <th>num_ratings</th>\n",
       "      <th>number</th>\n",
       "      <th>subseries</th>\n",
       "      <th>title</th>\n",
       "      <th>yr</th>\n",
       "    </tr>\n",
       "  </thead>\n",
       "  <tbody>\n",
       "    <tr>\n",
       "      <th>0</th>\n",
       "      <td>3.94</td>\n",
       "      <td>172994</td>\n",
       "      <td>1</td>\n",
       "      <td>Rincewind</td>\n",
       "      <td>The Color of Magic</td>\n",
       "      <td>1983</td>\n",
       "    </tr>\n",
       "    <tr>\n",
       "      <th>3</th>\n",
       "      <td>4.18</td>\n",
       "      <td>106431</td>\n",
       "      <td>4</td>\n",
       "      <td>Death</td>\n",
       "      <td>Mort</td>\n",
       "      <td>1987</td>\n",
       "    </tr>\n",
       "    <tr>\n",
       "      <th>7</th>\n",
       "      <td>4.29</td>\n",
       "      <td>92697</td>\n",
       "      <td>8</td>\n",
       "      <td>City Watch</td>\n",
       "      <td>Guards! Guards!</td>\n",
       "      <td>1989</td>\n",
       "    </tr>\n",
       "    <tr>\n",
       "      <th>2</th>\n",
       "      <td>3.96</td>\n",
       "      <td>79676</td>\n",
       "      <td>3</td>\n",
       "      <td>Witches</td>\n",
       "      <td>Equal Rites</td>\n",
       "      <td>1987</td>\n",
       "    </tr>\n",
       "    <tr>\n",
       "      <th>1</th>\n",
       "      <td>3.91</td>\n",
       "      <td>69990</td>\n",
       "      <td>2</td>\n",
       "      <td>Rincewind</td>\n",
       "      <td>The Light Fantastic</td>\n",
       "      <td>1986</td>\n",
       "    </tr>\n",
       "    <tr>\n",
       "      <th>32</th>\n",
       "      <td>4.34</td>\n",
       "      <td>68581</td>\n",
       "      <td>33</td>\n",
       "      <td>Moist von Lipwig</td>\n",
       "      <td>Going Postal</td>\n",
       "      <td>2004</td>\n",
       "    </tr>\n",
       "    <tr>\n",
       "      <th>28</th>\n",
       "      <td>4.45</td>\n",
       "      <td>68053</td>\n",
       "      <td>29</td>\n",
       "      <td>City Watch</td>\n",
       "      <td>Night Watch</td>\n",
       "      <td>2002</td>\n",
       "    </tr>\n",
       "    <tr>\n",
       "      <th>12</th>\n",
       "      <td>4.25</td>\n",
       "      <td>67956</td>\n",
       "      <td>13</td>\n",
       "      <td></td>\n",
       "      <td>Small Gods</td>\n",
       "      <td>1992</td>\n",
       "    </tr>\n",
       "    <tr>\n",
       "      <th>29</th>\n",
       "      <td>4.23</td>\n",
       "      <td>57566</td>\n",
       "      <td>30</td>\n",
       "      <td>Tiffany Aching</td>\n",
       "      <td>The Wee Free Men</td>\n",
       "      <td>2003</td>\n",
       "    </tr>\n",
       "    <tr>\n",
       "      <th>5</th>\n",
       "      <td>4.09</td>\n",
       "      <td>55853</td>\n",
       "      <td>6</td>\n",
       "      <td>Witches</td>\n",
       "      <td>Wyrd Sisters</td>\n",
       "      <td>1988</td>\n",
       "    </tr>\n",
       "  </tbody>\n",
       "</table>\n",
       "</div>"
      ],
      "text/plain": [
       "    avg_rating  num_ratings  number         subseries                title  \\\n",
       "0         3.94       172994       1         Rincewind   The Color of Magic   \n",
       "3         4.18       106431       4             Death                 Mort   \n",
       "7         4.29        92697       8        City Watch      Guards! Guards!   \n",
       "2         3.96        79676       3           Witches          Equal Rites   \n",
       "1         3.91        69990       2         Rincewind  The Light Fantastic   \n",
       "32        4.34        68581      33  Moist von Lipwig         Going Postal   \n",
       "28        4.45        68053      29        City Watch          Night Watch   \n",
       "12        4.25        67956      13                             Small Gods   \n",
       "29        4.23        57566      30    Tiffany Aching     The Wee Free Men   \n",
       "5         4.09        55853       6           Witches         Wyrd Sisters   \n",
       "\n",
       "      yr  \n",
       "0   1983  \n",
       "3   1987  \n",
       "7   1989  \n",
       "2   1987  \n",
       "1   1986  \n",
       "32  2004  \n",
       "28  2002  \n",
       "12  1992  \n",
       "29  2003  \n",
       "5   1988  "
      ]
     },
     "execution_count": 45,
     "metadata": {},
     "output_type": "execute_result"
    }
   ],
   "source": [
    "# Which books have been read more times?\n",
    "books.sort(['num_ratings'], ascending=0)[:10]"
   ]
  },
  {
   "cell_type": "code",
   "execution_count": 46,
   "metadata": {
    "collapsed": false
   },
   "outputs": [
    {
     "name": "stdout",
     "output_type": "stream",
     "text": [
      "['Night Watch', 'Reaper Man', 'Guards! Guards!', 'Small Gods', 'Going Postal']\n"
     ]
    }
   ],
   "source": [
    "# What books are the most popular?\n",
    "rats = set(books.sort(['num_ratings'], ascending=0)[:11]['title'])\n",
    "vals = (set(books.sort(['avg_rating'], ascending=0)[:11]['title']))\n",
    "popular = [b for b in rats if b in vals]\n",
    "print(popular)"
   ]
  },
  {
   "cell_type": "code",
   "execution_count": 47,
   "metadata": {
    "collapsed": false
   },
   "outputs": [
    {
     "data": {
      "image/png": "[encoded data removed]",
      "text/plain": [
       "<matplotlib.figure.Figure at 0x7f9e88760940>"
      ]
     },
     "metadata": {},
     "output_type": "display_data"
    }
   ],
   "source": [
    "\"\"\" And now for a little time-series plotting.\n",
    "    Where were the books in this series published?\n",
    "\"\"\"\n",
    "books_year = []\n",
    "yrs = range(1983, 2016)\n",
    "for yr in yrs:\n",
    "    books_year.append(len(books[books['yr'] == yr]))\n",
    "plt.bar(yrs, books_year, color='b', edgecolor='none', width=1.0)\n",
    "plt.title('Number of Discworld Books Published this Year')\n",
    "plt.xlim(1983, 2014)\n",
    "plt.show()"
   ]
  },
  {
   "cell_type": "code",
   "execution_count": 48,
   "metadata": {
    "collapsed": false
   },
   "outputs": [
    {
     "data": {
      "image/png": "[encoded data removed]",
      "text/plain": [
       "<matplotlib.figure.Figure at 0x7f9e886d6978>"
      ]
     },
     "metadata": {},
     "output_type": "display_data"
    }
   ],
   "source": [
    "\"\"\" Now let's see how many people read the books that\n",
    "    were published in each year.\n",
    "\"\"\"\n",
    "ratings_year = []\n",
    "for yr in yrs:\n",
    "    ratings_year.append(sum(books[books['yr'] == yr]['num_ratings']))\n",
    "plt.plot(yrs, ratings_year, linewidth=2)\n",
    "plt.xlim(1983, 2015)\n",
    "plt.fill_between(yrs, ratings_year, 0)\n",
    "plt.title('Number of Goodreads Readers who Read\\nDiscworld Books Published in this Year')\n",
    "plt.show()"
   ]
  },
  {
   "cell_type": "code",
   "execution_count": 49,
   "metadata": {
    "collapsed": false
   },
   "outputs": [
    {
     "data": {
      "image/png": "[encoded data removed]",
      "text/plain": [
       "<matplotlib.figure.Figure at 0x7f9e884f2470>"
      ]
     },
     "metadata": {},
     "output_type": "display_data"
    }
   ],
   "source": [
    "# avg rating for each publication year\n",
    "avg_ra_year = []\n",
    "i = 0\n",
    "for yr in yrs:\n",
    "    if books_year[i] > 0:\n",
    "        avg_ra_year.append(sum(books[books['yr'] == yr]['avg_rating']) / len(books[books['yr'] == yr]))\n",
    "    else:\n",
    "        avg_ra_year.append(0)\n",
    "    i += 1\n",
    "plt.plot(yrs, avg_ra_year, linewidth=2)\n",
    "plt.xlim(1982, 2016)\n",
    "plt.ylim(3.5, 4.5)\n",
    "plt.fill_between(yrs, avg_ra_year, 0)\n",
    "plt.title('Average Goodreads Reader Rating for\\nDiscworld Books Published in this Year')\n",
    "plt.show()"
   ]
  },
  {
   "cell_type": "code",
   "execution_count": 50,
   "metadata": {
    "collapsed": false
   },
   "outputs": [],
   "source": [
    "series_books = books[books.subseries != '']"
   ]
  },
  {
   "cell_type": "code",
   "execution_count": 51,
   "metadata": {
    "collapsed": false
   },
   "outputs": [
    {
     "data": {
      "text/plain": [
       "subseries\n",
       "Moist von Lipwig    1\n",
       "Death               5\n",
       "Tiffany Aching      5\n",
       "Witches             6\n",
       "City Watch          8\n",
       "Rincewind           8\n",
       "Name: number, dtype: int64"
      ]
     },
     "execution_count": 51,
     "metadata": {},
     "output_type": "execute_result"
    }
   ],
   "source": [
    "series_books.groupby('subseries').count()['number'].order()"
   ]
  },
  {
   "cell_type": "code",
   "execution_count": 52,
   "metadata": {
    "collapsed": false
   },
   "outputs": [
    {
     "data": {
      "text/plain": [
       "subseries\n",
       "Rincewind           3.95000\n",
       "Witches             4.07000\n",
       "Death               4.16800\n",
       "City Watch          4.24125\n",
       "Tiffany Aching      4.27400\n",
       "Moist von Lipwig    4.34000\n",
       "Name: avg_rating, dtype: float64"
      ]
     },
     "execution_count": 52,
     "metadata": {},
     "output_type": "execute_result"
    }
   ],
   "source": [
    "series_books.groupby('subseries').mean()['avg_rating'].order()\n"
   ]
  },
  {
   "cell_type": "code",
   "execution_count": 53,
   "metadata": {
    "collapsed": false
   },
   "outputs": [
    {
     "data": {
      "text/html": [
       "<div>\n",
       "<table border=\"1\" class=\"dataframe\">\n",
       "  <thead>\n",
       "    <tr style=\"text-align: right;\">\n",
       "      <th></th>\n",
       "      <th>title</th>\n",
       "      <th>subseries</th>\n",
       "      <th>number</th>\n",
       "    </tr>\n",
       "  </thead>\n",
       "  <tbody>\n",
       "    <tr>\n",
       "      <th>7</th>\n",
       "      <td>Guards! Guards!</td>\n",
       "      <td>City Watch</td>\n",
       "      <td>8</td>\n",
       "    </tr>\n",
       "    <tr>\n",
       "      <th>14</th>\n",
       "      <td>Men at Arms</td>\n",
       "      <td>City Watch</td>\n",
       "      <td>15</td>\n",
       "    </tr>\n",
       "    <tr>\n",
       "      <th>18</th>\n",
       "      <td>Feet of Clay</td>\n",
       "      <td>City Watch</td>\n",
       "      <td>19</td>\n",
       "    </tr>\n",
       "    <tr>\n",
       "      <th>20</th>\n",
       "      <td>Jingo</td>\n",
       "      <td>City Watch</td>\n",
       "      <td>21</td>\n",
       "    </tr>\n",
       "    <tr>\n",
       "      <th>23</th>\n",
       "      <td>The Fifth Elephant</td>\n",
       "      <td>City Watch</td>\n",
       "      <td>24</td>\n",
       "    </tr>\n",
       "    <tr>\n",
       "      <th>28</th>\n",
       "      <td>Night Watch</td>\n",
       "      <td>City Watch</td>\n",
       "      <td>29</td>\n",
       "    </tr>\n",
       "    <tr>\n",
       "      <th>33</th>\n",
       "      <td>Thud!</td>\n",
       "      <td>City Watch</td>\n",
       "      <td>34</td>\n",
       "    </tr>\n",
       "    <tr>\n",
       "      <th>38</th>\n",
       "      <td>Snuff</td>\n",
       "      <td>City Watch</td>\n",
       "      <td>39</td>\n",
       "    </tr>\n",
       "    <tr>\n",
       "      <th>3</th>\n",
       "      <td>Mort</td>\n",
       "      <td>Death</td>\n",
       "      <td>4</td>\n",
       "    </tr>\n",
       "    <tr>\n",
       "      <th>10</th>\n",
       "      <td>Reaper Man</td>\n",
       "      <td>Death</td>\n",
       "      <td>11</td>\n",
       "    </tr>\n",
       "    <tr>\n",
       "      <th>15</th>\n",
       "      <td>Soul Music</td>\n",
       "      <td>Death</td>\n",
       "      <td>16</td>\n",
       "    </tr>\n",
       "    <tr>\n",
       "      <th>19</th>\n",
       "      <td>Hogfather</td>\n",
       "      <td>Death</td>\n",
       "      <td>20</td>\n",
       "    </tr>\n",
       "    <tr>\n",
       "      <th>25</th>\n",
       "      <td>Thief of Time</td>\n",
       "      <td>Death</td>\n",
       "      <td>26</td>\n",
       "    </tr>\n",
       "    <tr>\n",
       "      <th>29</th>\n",
       "      <td>The Wee Free Men</td>\n",
       "      <td>Tiffany Aching</td>\n",
       "      <td>30</td>\n",
       "    </tr>\n",
       "    <tr>\n",
       "      <th>31</th>\n",
       "      <td>A Hat Full of Sky</td>\n",
       "      <td>Tiffany Aching</td>\n",
       "      <td>32</td>\n",
       "    </tr>\n",
       "    <tr>\n",
       "      <th>34</th>\n",
       "      <td>Wintersmith</td>\n",
       "      <td>Tiffany Aching</td>\n",
       "      <td>35</td>\n",
       "    </tr>\n",
       "    <tr>\n",
       "      <th>37</th>\n",
       "      <td>I Shall Wear Midnight</td>\n",
       "      <td>Tiffany Aching</td>\n",
       "      <td>38</td>\n",
       "    </tr>\n",
       "    <tr>\n",
       "      <th>40</th>\n",
       "      <td>The Shepherd's Crown</td>\n",
       "      <td>Tiffany Aching</td>\n",
       "      <td>41</td>\n",
       "    </tr>\n",
       "  </tbody>\n",
       "</table>\n",
       "</div>"
      ],
      "text/plain": [
       "                    title       subseries  number\n",
       "7         Guards! Guards!      City Watch       8\n",
       "14            Men at Arms      City Watch      15\n",
       "18           Feet of Clay      City Watch      19\n",
       "20                  Jingo      City Watch      21\n",
       "23     The Fifth Elephant      City Watch      24\n",
       "28            Night Watch      City Watch      29\n",
       "33                  Thud!      City Watch      34\n",
       "38                  Snuff      City Watch      39\n",
       "3                    Mort           Death       4\n",
       "10             Reaper Man           Death      11\n",
       "15             Soul Music           Death      16\n",
       "19              Hogfather           Death      20\n",
       "25          Thief of Time           Death      26\n",
       "29       The Wee Free Men  Tiffany Aching      30\n",
       "31      A Hat Full of Sky  Tiffany Aching      32\n",
       "34            Wintersmith  Tiffany Aching      35\n",
       "37  I Shall Wear Midnight  Tiffany Aching      38\n",
       "40   The Shepherd's Crown  Tiffany Aching      41"
      ]
     },
     "execution_count": 53,
     "metadata": {},
     "output_type": "execute_result"
    }
   ],
   "source": [
    "# List the books in each top series\n",
    "set_books = books[books['subseries'].isin(['Death', 'City Watch', 'Tiffany Aching'])]\n",
    "set_books[['title', 'subseries', 'number']].sort('subseries')"
   ]
  },
  {
   "cell_type": "code",
   "execution_count": null,
   "metadata": {
    "collapsed": true
   },
   "outputs": [],
   "source": []
  }
 ],
 "metadata": {
  "kernelspec": {
   "display_name": "Python 3",
   "language": "python",
   "name": "python3"
  },
  "language_info": {
   "codemirror_mode": {
    "name": "ipython",
    "version": 3
   },
   "file_extension": ".py",
   "mimetype": "text/x-python",
   "name": "python",
   "nbconvert_exporter": "python",
   "pygments_lexer": "ipython3",
   "version": "3.4.3"
  }
 },
 "nbformat": 4,
 "nbformat_minor": 0
}
