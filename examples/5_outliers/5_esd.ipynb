{
 "cells": [
  {
   "cell_type": "code",
   "execution_count": 75,
   "metadata": {
    "collapsed": false
   },
   "outputs": [],
   "source": [
    "\"\"\" thoughts from: https://taher-zadeh.com/outlier-detection-in-nonlinear-least-square-regression/\n",
    "    ideas from the excellent pyastronomy Python library source code:\n",
    "    http://www.hs.uni-hamburg.de/DE/Ins/Per/Czesla/PyA/PyA/index.html\n",
    "\"\"\"\n",
    "\n",
    "%matplotlib inline\n",
    "import numpy as np\n",
    "\n",
    "# first, let's generate some data\n",
    "a = 1\n",
    "b = 1\n",
    "x = np.arange(0, 5, 0.05)\n",
    "y_func = lambda x, a, b: a * np.exp(-1.0 * b * x)\n",
    "y = y_func(x, a, b)\n",
    "\n",
    "noise = np.random.normal(0, 0.02, len(y))\n",
    "\n",
    "y = np.absolute(y + noise)\n",
    "\n",
    "for u in np.arange(0, len(x), len(x) / 10):\n",
    "    y[u] = 1.5 * np.random.random()\n"
   ]
  },
  {
   "cell_type": "code",
   "execution_count": 76,
   "metadata": {
    "collapsed": false
   },
   "outputs": [
    {
     "data": {
      "text/plain": [
       "(0, 5)"
      ]
     },
     "execution_count": 76,
     "metadata": {},
     "output_type": "execute_result"
    },
    {
     "data": {
      "image/png": "[encoded data removed]",
      "text/plain": [
       "<matplotlib.figure.Figure at 0x7fa57b591650>"
      ]
     },
     "metadata": {},
     "output_type": "display_data"
    }
   ],
   "source": [
    "# let's take a quick look at our data\n",
    "from matplotlib import pyplot as plt\n",
    "plt.scatter(x,y)\n",
    "plt.ylim(0,1.6)\n",
    "plt.xlim(0,5)"
   ]
  },
  {
   "cell_type": "code",
   "execution_count": 77,
   "metadata": {
    "collapsed": false
   },
   "outputs": [],
   "source": [
    "# Now let's implement the Generalized Extreme Studentized Deviant (ESD) Test\n",
    "from scipy.stats import norm\n",
    "\n",
    "\n",
    "def generalized_esd_test(x, max_outlier, alpha=0.05, full_output=False):\n",
    "    # the maximum number of outliers\n",
    "    xmasked = np.ma.array(x)\n",
    "    n = len(xmasked)\n",
    "    R = []\n",
    "    Lambda = []\n",
    "    maxm = []\n",
    "\n",
    "    for i in xrange(max_outlier + 1):\n",
    "        xmean = xmasked.mean()\n",
    "        xstd  = xmasked.std()\n",
    "\n",
    "        # Maximum deviation\n",
    "        max_dev = np.abs((xmasked - xmean) / xstd)\n",
    "        maxm.append(np.argmax(max_dev))\n",
    "        R.append(max_dev[maxm[-1]])\n",
    "\n",
    "        if i >= 1:\n",
    "            p = 1.0 - alpha / (2.0 * (n - i + 1))\n",
    "            crit = norm.ppf(p, n - i - 1)\n",
    "            Lambda.append((n - i) * crit / np.sqrt((n - i - 1 + crit**2) * (n - i + 1)))\n",
    "        \n",
    "        # mask that value and proceed\n",
    "        xmasked[maxm[-1]] = np.ma.masked\n",
    "\n",
    "    # Remove the first entry from R, which is of\n",
    "    # no meaning for the test\n",
    "    R.pop(-1)\n",
    "\n",
    "    # find the number of outliers\n",
    "    ofound = False\n",
    "    for j in xrange(max_outlier - 1, -1, -1):\n",
    "        if R[j] > Lambda[j]:\n",
    "            ofound = True\n",
    "            break\n",
    "\n",
    "    # Prepare return value\n",
    "    if ofound:\n",
    "        if full_output:\n",
    "            return i + 1, maxm[0: i + 1], R, Lambda, maxm\n",
    "        else:\n",
    "            return i + 1, maxm[0: i + 1]\n",
    "    else:\n",
    "        if full_output:\n",
    "            return 0, [], R, L, maxm\n",
    "        else:\n",
    "            # No outliers could be detected\n",
    "            return 0, []\n"
   ]
  },
  {
   "cell_type": "code",
   "execution_count": 72,
   "metadata": {
    "collapsed": false
   },
   "outputs": [
    {
     "name": "stdout",
     "output_type": "stream",
     "text": [
      "(array([  0.00000000e+00,  -1.94457896e+02,   6.38639118e+00,\n",
      "        -1.89095368e+00,   1.26865547e+01,   3.41079296e-01,\n",
      "        -5.16474755e+00,   6.95358132e-01,  -1.32681263e-01,\n",
      "         2.61125753e+00,   1.70539648e-01,  -1.46614818e+00,\n",
      "         2.95830050e-01,   2.09359193e-04,   1.12264712e+00,\n",
      "         1.13693098e-01,  -6.59675569e-01,   1.76908353e-01,\n",
      "         2.64270388e-02,   6.33146306e-01,   8.52698240e-02,\n",
      "        -3.63605362e-01,   1.23251020e-01,   3.23049946e-02,\n",
      "         4.11619448e-01,   6.82158720e-02,  -2.24590206e-01,\n",
      "         9.35260224e-02,   3.26738978e-02,   2.92056815e-01,\n",
      "         5.68465489e-02,  -1.49278647e-01,   7.49096279e-02,\n",
      "         3.13529013e-02,   2.19850139e-01,   4.87256167e-02,\n",
      "        -1.04112492e-01,   6.22603611e-02,   2.95500594e-02,\n",
      "         1.72698057e-01,   4.26349120e-02,  -7.51949994e-02,\n",
      "         5.31527448e-02,   2.76891738e-02,   1.40083022e-01,\n",
      "         3.78976950e-02,  -5.57069139e-02,   4.63052965e-02,\n",
      "         2.59219848e-02,   1.16504673e-01,   3.41079360e-02,\n",
      "        -4.20410764e-02,   4.09820138e-02,   2.42973460e-02,\n",
      "         9.88527794e-02,   3.10072099e-02,  -3.21498242e-02,\n",
      "         3.66017020e-02,   2.28234871e-02,   8.52575995e-02,\n",
      "         2.84232745e-02,  -2.48037890e-02,   3.31544998e-02,\n",
      "         2.14928707e-02,   7.45382477e-02,   2.62368660e-02,\n",
      "        -1.92304625e-02,   3.02902462e-02,   2.02924312e-02,\n",
      "         6.59180073e-02,   2.43628083e-02,  -1.49257957e-02,\n",
      "         2.78742020e-02,   1.92079483e-02,   5.88682691e-02,\n",
      "         2.27386179e-02,  -1.15501992e-02,   2.58098952e-02,\n",
      "         1.82258646e-02,   5.30186845e-02,   2.13174560e-02,\n",
      "        -8.86860682e-03,   2.40264545e-02,   1.73105422e-02,\n",
      "         4.81032591e-02,   2.00634824e-02,  -6.71443663e-03,\n",
      "         2.24707163e-02,   1.65004266e-02,   4.39267188e-02,\n",
      "         1.89488475e-02,  -4.96715403e-03,   2.11020573e-02,\n",
      "         1.57597785e-02,   4.03429761e-02,   1.79515404e-02,\n",
      "        -3.53797628e-03,   1.98889130e-02,   1.50805184e-02,\n",
      "         3.72408458e-02]), 1)\n"
     ]
    }
   ],
   "source": [
    "# Now let's fit the data to a least-squares fit.\n",
    "\n",
    "# https://python4mpia.github.io/fitting_data/least-squares-fitting.html\n",
    "\n",
    "import scipy.optimize as optimization\n",
    "\n",
    "x0 = np.zeros(100)\n",
    "\n",
    "def diff_func(params, xdata, ydata):\n",
    "    return (ydata - np.dot(xdata, params))\n",
    "\n",
    "ls_fit = optimization.leastsq(diff_func, x0, args=(x, y))\n",
    "print(ls_fit)"
   ]
  },
  {
   "cell_type": "code",
   "execution_count": 78,
   "metadata": {
    "collapsed": false
   },
   "outputs": [
    {
     "name": "stdout",
     "output_type": "stream",
     "text": [
      "(21, 21, [1, 4, 6, 2, 3, 9, 11, 40, 10, 16, 80, 50, 0, 14, 8, 20, 21, 60, 13, 26, 90])\n"
     ]
    }
   ],
   "source": [
    "# And we will take the difference between the data and the fit, and find the outliers there\n",
    "\n",
    "ls_fit_diff = ls_fit[0] - y\n",
    "num_found, bad_points = generalized_esd_test(ls_fit_diff, 20)\n",
    "print(num_found, len(bad_points), bad_points)"
   ]
  },
  {
   "cell_type": "code",
   "execution_count": 81,
   "metadata": {
    "collapsed": false
   },
   "outputs": [
    {
     "data": {
      "text/plain": [
       "(0, 5)"
      ]
     },
     "execution_count": 81,
     "metadata": {},
     "output_type": "execute_result"
    },
    {
     "data": {
      "image/png": "[encoded data removed]",
      "text/plain": [
       "<matplotlib.figure.Figure at 0x7fa57b64b390>"
      ]
     },
     "metadata": {},
     "output_type": "display_data"
    }
   ],
   "source": [
    "\"\"\" Let's plot the data again with:\n",
    "        the original least squares fit line\n",
    "        the outlier data points highlighted\n",
    "        a new least squares fit, without the outliers\n",
    "\"\"\"\n",
    "plt.scatter(x,y)\n",
    "plt.plot(x, ls_fit[0])\n",
    "plt.scatter([x[j] for j in bad_points], [y[i] for i in bad_points], s=60, c='red', alpha=0.5)\n",
    "plt.ylim(0,1.6)\n",
    "plt.xlim(0,5)\n",
    "\n",
    "\n"
   ]
  },
  {
   "cell_type": "code",
   "execution_count": null,
   "metadata": {
    "collapsed": true
   },
   "outputs": [],
   "source": []
  }
 ],
 "metadata": {
  "kernelspec": {
   "display_name": "Python 2",
   "language": "python",
   "name": "python2"
  },
  "language_info": {
   "codemirror_mode": {
    "name": "ipython",
    "version": 2
   },
   "file_extension": ".py",
   "mimetype": "text/x-python",
   "name": "python",
   "nbconvert_exporter": "python",
   "pygments_lexer": "ipython2",
   "version": "2.7.11"
  }
 },
 "nbformat": 4,
 "nbformat_minor": 0
}
