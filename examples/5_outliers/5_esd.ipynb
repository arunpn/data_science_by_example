{
 "cells": [
  {
   "cell_type": "code",
   "execution_count": 1,
   "metadata": {
    "collapsed": false
   },
   "outputs": [],
   "source": [
    "\"\"\" This is  a simple example of using the Generalized Extreme Studentized Deviant (ESD) Test\n",
    "    I saw a similar topic at:\n",
    "    https://taher-zadeh.com/outlier-detection-in-nonlinear-least-square-regression/\n",
    "    And I for a different implement of ESD, check out the excellent pyastronomy Python library:\n",
    "    https://github.com/sczesla/PyAstronomy/blob/master/src/pyasl/asl/outlier.py\n",
    "\"\"\"\n",
    "\n",
    "%matplotlib inline\n",
    "import numpy as np\n",
    "\n",
    "# first, let's generate some test data (in an exponential curve)\n",
    "a = 1\n",
    "b = 1\n",
    "x = np.arange(0, 5, 0.05)\n",
    "y_func = lambda x, a, b: a * np.exp(-1.0 * b * x)\n",
    "y = y_func(x, a, b)\n",
    "\n",
    "# add some noise to the data\n",
    "noise = np.random.normal(0, 0.02, len(y))\n",
    "y = np.absolute(y + noise)\n",
    "\n",
    "# add some outliers to the data\n",
    "for u in np.arange(0, len(x), len(x) / 10):\n",
    "    y[u] = 1.5 * np.random.random()\n"
   ]
  },
  {
   "cell_type": "code",
   "execution_count": 2,
   "metadata": {
    "collapsed": false
   },
   "outputs": [
    {
     "data": {
      "text/plain": [
       "(0, 5)"
      ]
     },
     "execution_count": 2,
     "metadata": {},
     "output_type": "execute_result"
    },
    {
     "data": {
      "image/png": "[encoded data removed]",
      "text/plain": [
       "<matplotlib.figure.Figure at 0x7f464c761ac8>"
      ]
     },
     "metadata": {},
     "output_type": "display_data"
    }
   ],
   "source": [
    "# let's take a quick look at our data\n",
    "from matplotlib import pyplot as plt\n",
    "plt.scatter(x, y)\n",
    "plt.ylim(0, 1.6)\n",
    "plt.xlim(0, 5)"
   ]
  },
  {
   "cell_type": "code",
   "execution_count": 9,
   "metadata": {
    "collapsed": false
   },
   "outputs": [],
   "source": [
    "# Now let's implement the Generalized Extreme Studentized Deviant (ESD) Test\n",
    "from scipy.stats import norm\n",
    "\n",
    "\n",
    "def generalized_esd_test(x, max_outlier, alpha=0.05, full_output=False):\n",
    "    # the maximum number of outliers\n",
    "    xmasked = np.ma.array(x)\n",
    "    n = len(xmasked)\n",
    "    R = []\n",
    "    Lambda = []\n",
    "    maxm = []\n",
    "\n",
    "    for i in range(max_outlier + 1):\n",
    "        xmean = xmasked.mean()\n",
    "        xstd  = xmasked.std()\n",
    "\n",
    "        # Maximum deviation\n",
    "        max_dev = np.abs((xmasked - xmean) / xstd)\n",
    "        maxm.append(np.argmax(max_dev))\n",
    "        R.append(max_dev[maxm[-1]])\n",
    "\n",
    "        if i >= 1:\n",
    "            p = 1 - alpha / (2.0 * (n - i + 1))\n",
    "            crit = norm.ppf(p, n - i - 1.0)\n",
    "            Lambda.append((n - i) * crit * 0.3 / np.sqrt((n - i - 1 + crit**2) * (n - i + 1)))\n",
    "            \n",
    "        # mask that value and proceed\n",
    "        xmasked[maxm[-1]] = np.ma.masked\n",
    "\n",
    "    # remove the first entry from R, which is unused\n",
    "    R.pop(-1)\n",
    "\n",
    "    # find the number of outliers\n",
    "    ofound = False\n",
    "    for j in range(max_outlier - 1, -1, -1):\n",
    "        if R[j] > Lambda[j]:\n",
    "            ofound = True\n",
    "            break\n",
    "\n",
    "    # Prepare return value\n",
    "    if ofound:\n",
    "        if full_output:\n",
    "            return j + 1, maxm[0: j + 1], R, Lambda, maxm\n",
    "        else:\n",
    "            return j + 1, maxm[0: j + 1]\n",
    "    else:\n",
    "        if full_output:\n",
    "            return 0, [], R, Lambda, maxm\n",
    "        else:\n",
    "            # No outliers could be detected\n",
    "            return 0, []\n"
   ]
  },
  {
   "cell_type": "code",
   "execution_count": 7,
   "metadata": {
    "collapsed": false
   },
   "outputs": [
    {
     "name": "stdout",
     "output_type": "stream",
     "text": [
      "(array([ 0.86153825,  0.760239  ,  0.01865061]), array([[ 0.00649334,  0.00240285, -0.0010637 ],\n",
      "       [ 0.00240285,  0.03587389,  0.00889789],\n",
      "       [-0.0010637 ,  0.00889789,  0.00307147]]))\n"
     ]
    }
   ],
   "source": [
    "# Now we will fit the data using SciPy's curve_fit\n",
    "\n",
    "import scipy.optimize as optimization\n",
    "\n",
    "x0 = np.ones(3)\n",
    "def fit_func(xx, a, b, c):\n",
    "    return c + a * np.exp(-1.0 * b * xx)\n",
    "ls_fit = optimization.curve_fit(fit_func, x, y, x0)\n",
    "print(ls_fit)\n"
   ]
  },
  {
   "cell_type": "code",
   "execution_count": 10,
   "metadata": {
    "collapsed": false
   },
   "outputs": [
    {
     "name": "stdout",
     "output_type": "stream",
     "text": [
      "7 7 [50, 80, 20, 0, 10, 60, 70]\n"
     ]
    }
   ],
   "source": [
    "\"\"\" Now we take the difference between the fit curve and the actual data points\n",
    "    And find the bad data points using our ESD function above.\n",
    "\"\"\"\n",
    "\n",
    "ls_curve = ls_fit[0][2] + ls_fit[0][0] * np.exp(-1.0 * ls_fit[0][1] * np.arange(0, 5, 0.05))\n",
    "\n",
    "ls_curve_diff = np.abs(ls_curve - y)\n",
    "num_found, bad_points = generalized_esd_test(ls_curve_diff, 10)\n",
    "print(num_found, len(bad_points), bad_points)"
   ]
  },
  {
   "cell_type": "code",
   "execution_count": 11,
   "metadata": {
    "collapsed": true
   },
   "outputs": [],
   "source": [
    "# And now let's re-fit the line, using curve_fit, without the bad data points we just found\n",
    "xx0 = np.ones(3)\n",
    "good_xs = [ij for ij in filter(lambda ii: ii not in bad_points, range(len(x)))]\n",
    "xx = x[good_xs]\n",
    "yy = y[good_xs]\n",
    "\n",
    "ls_fit2 = optimization.curve_fit(fit_func, xx, yy, xx0)\n",
    "ls_curve2 = ls_fit2[0][2] + ls_fit2[0][0] * np.exp(-1.0 * ls_fit2[0][1] * xx)\n"
   ]
  },
  {
   "cell_type": "code",
   "execution_count": 12,
   "metadata": {
    "collapsed": false
   },
   "outputs": [
    {
     "data": {
      "text/plain": [
       "(0, 5)"
      ]
     },
     "execution_count": 12,
     "metadata": {},
     "output_type": "execute_result"
    },
    {
     "data": {
      "image/png": "[encoded data removed]",
      "text/plain": [
       "<matplotlib.figure.Figure at 0x7f4629d1eb70>"
      ]
     },
     "metadata": {},
     "output_type": "display_data"
    }
   ],
   "source": [
    "\"\"\" Let's plot the data again with:\n",
    "        the original least squares fit line\n",
    "        the outlier data points highlighted\n",
    "        a new least squares fit, without the outliers\n",
    "\"\"\"\n",
    "# plot all data points\n",
    "plt.scatter(x, y)\n",
    "# plot fit to all data points\n",
    "plt.plot(x, ls_curve, c='red')\n",
    "# highlight outlier data points\n",
    "plt.scatter([x[j] for j in bad_points], [y[i] for i in bad_points], s=100, c='red', alpha=0.5)\n",
    "# plot fit to all non-outlier data points\n",
    "plt.plot(xx, ls_curve2, c='green', linewidth=3, label='fit without outliers')\n",
    "\n",
    "# format plot\n",
    "plt.ylim(0, 1.6)\n",
    "plt.xlim(0, 5)\n"
   ]
  },
  {
   "cell_type": "code",
   "execution_count": null,
   "metadata": {
    "collapsed": true
   },
   "outputs": [],
   "source": []
  }
 ],
 "metadata": {
  "kernelspec": {
   "display_name": "Python 3",
   "language": "python",
   "name": "python3"
  },
  "language_info": {
   "codemirror_mode": {
    "name": "ipython",
    "version": 3
   },
   "file_extension": ".py",
   "mimetype": "text/x-python",
   "name": "python",
   "nbconvert_exporter": "python",
   "pygments_lexer": "ipython3",
   "version": "3.4.3"
  }
 },
 "nbformat": 4,
 "nbformat_minor": 0
}
